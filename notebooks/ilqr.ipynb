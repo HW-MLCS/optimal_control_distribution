{
 "cells": [
  {
   "cell_type": "markdown",
   "metadata": {},
   "source": [
    "# Probabilistic iLQR "
   ]
  },
  {
   "cell_type": "code",
   "execution_count": 1,
   "metadata": {},
   "outputs": [],
   "source": [
    "import numpy as np\n",
    "import matplotlib.pyplot as plt\n",
    "from numpy import dot\n",
    "from numpy.linalg import inv\n",
    "from IPython.display import clear_output\n",
    "import time\n",
    "from scipy.stats import multivariate_normal as mvn\n",
    "from ocp import *\n",
    "import pdb\n",
    "%load_ext autoreload\n",
    "%autoreload 2\n",
    "\n",
    "np.set_printoptions(precision=4, suppress=True)"
   ]
  },
  {
   "cell_type": "markdown",
   "metadata": {},
   "source": [
    "#### Creating a unicycle "
   ]
  },
  {
   "cell_type": "raw",
   "metadata": {},
   "source": [
    "sys = Unicycle(dt = 0.1)\n",
    "\n",
    "x0 = np.array([-1,-1,1])*1\n",
    "T = 40\n",
    "u = np.ones((T, 2))\n",
    "\n",
    "sys.set_init_state(x0)\n",
    "\n",
    "xs = sys.rollout(u)\n",
    "x_ref = np.array([2,2,0]) #for 1st order unicycle\n",
    "plt.plot(xs[:,0], xs[:,1])\n",
    "plt.axis([-2,2.,-2.,2.])"
   ]
  },
  {
   "cell_type": "markdown",
   "metadata": {},
   "source": [
    "#### Creating a 2nd order unicycle "
   ]
  },
  {
   "cell_type": "code",
   "execution_count": 160,
   "metadata": {},
   "outputs": [
    {
     "data": {
      "text/plain": [
       "[<matplotlib.lines.Line2D at 0x7f22f7f05e10>]"
      ]
     },
     "execution_count": 160,
     "metadata": {},
     "output_type": "execute_result"
    },
    {
     "data": {
      "image/png": "[encoded data removed]",
      "text/plain": [
       "<Figure size 432x288 with 1 Axes>"
      ]
     },
     "metadata": {
      "needs_background": "light"
     },
     "output_type": "display_data"
    }
   ],
   "source": [
    "sys = SecondUnicycle(dt = 0.03)\n",
    "sys_name = 'Unicycle'\n",
    "\n",
    "x0 = np.array([-1,-1,0, 0, 0])\n",
    "T = 200\n",
    "u = np.ones((T, sys.Dx))\n",
    "\n",
    "sys.set_init_state(x0)\n",
    "sys.compute_matrices(x0,u[0])\n",
    "xs = sys.rollout(u)\n",
    "x_ref = np.array([2,2,0,0,0]) #for 2nd order unicycle\n",
    "plt.plot(xs[:,0], xs[:,1])"
   ]
  },
  {
   "cell_type": "markdown",
   "metadata": {},
   "source": [
    "#### Creating a Pendulum"
   ]
  },
  {
   "cell_type": "code",
   "execution_count": 146,
   "metadata": {},
   "outputs": [],
   "source": [
    "sys = Pendulum(dt = 0.05)\n",
    "sys_name = 'Inverted_Pendulum'\n",
    "sys.b = 0.01\n",
    "x0 = np.array([4*np.pi/4, 0])\n",
    "sys.set_init_state(x0)\n",
    "\n",
    "T = 200\n",
    "us = np.zeros((T,sys.Du))\n",
    "xs = sys.rollout(us)\n",
    "x_ref = np.array([0,0]) #for pendulum\n",
    "#sys.plot_traj(xs, dt = 0.01)"
   ]
  },
  {
   "cell_type": "raw",
   "metadata": {},
   "source": [
    "sys.plot([3*np.pi/2], )\n",
    "plt.title('Theta = 0')\n",
    "plt.savefig('thetazero.png')"
   ]
  },
  {
   "cell_type": "raw",
   "metadata": {},
   "source": [
    "sys.plot([np.pi], )\n",
    "plt.title('Theta = 3pi/2')\n",
    "plt.savefig('thetadown.png', transparent=True)"
   ]
  },
  {
   "cell_type": "markdown",
   "metadata": {},
   "source": [
    "#### Creating a Bicopter "
   ]
  },
  {
   "cell_type": "code",
   "execution_count": 169,
   "metadata": {},
   "outputs": [],
   "source": [
    "sys = Bicopter(dt = 0.05)\n",
    "sys_name = 'Bicopter'\n",
    "x0 = np.zeros(6)\n",
    "sys.set_init_state(x0)\n",
    "T = 100\n",
    "us = np.ones((T, sys.Du))*20\n",
    "us[:,0] *= 2\n",
    "xs = sys.rollout(us)\n",
    "_ = sys.compute_matrices(x0, us[0])\n",
    "x_ref = np.array([2,2,0,0,0,0]) #for bicopter"
   ]
  },
  {
   "cell_type": "raw",
   "metadata": {},
   "source": [
    "sys.plot_traj(xs)"
   ]
  },
  {
   "cell_type": "raw",
   "metadata": {},
   "source": [
    "## Iterative LQR "
   ]
  },
  {
   "cell_type": "raw",
   "metadata": {},
   "source": [
    "def calc_cost(xs, us, x_refs, Q, R, T, Qf = None):\n",
    "    if Q.ndim == 2:\n",
    "        Q = np.array([Q]*(T+1))\n",
    "        R = np.array([R]*(T+1))\n",
    "        if Qf is not None:\n",
    "            Q[-1] = Qf\n",
    "    elif Q.ndim == 3:\n",
    "        pass\n",
    "    else:\n",
    "        print('Number of dimensions must be either 2 or 3')\n",
    "        raise  \n",
    "    \n",
    "    cost = 0\n",
    "    for i in range(T):\n",
    "        cost += (xs[i]- x_refs[i]).T.dot(Q[i]).dot(xs[i]- x_refs[i]) + us[i].T.dot(R[i]).dot(us[i])\n",
    "    cost += (xs[T]- x_refs[i]).T.dot(Q[T]).dot(xs[T]- x_refs[i])\n",
    "    return cost"
   ]
  },
  {
   "cell_type": "raw",
   "metadata": {},
   "source": [
    "#### Define cost parameters "
   ]
  },
  {
   "cell_type": "raw",
   "metadata": {},
   "source": [
    "Q = np.eye(sys.Dx)*0.1\n",
    "Q[2:,2:] = 0*Q[2:,2:] \n",
    "Qf = np.eye(sys.Dx)*100\n",
    "Qf[2:,2:] = 0*Qf[2:,2:] \n",
    "\n",
    "R = np.eye(sys.Du)*1\n",
    "mu = 1e-6"
   ]
  },
  {
   "cell_type": "raw",
   "metadata": {},
   "source": [
    "#### Define reference point "
   ]
  },
  {
   "cell_type": "raw",
   "metadata": {},
   "source": [
    "#x_ref = np.array([2,2,0,0,0,0]) #for bicopter\n",
    "#x_ref = np.array([np.pi,0]) #for pendulum\n",
    "#x_ref = np.array([2,2,0]) #for 1st order unicycle\n",
    "x_ref = np.array([2,2,0,0,0]) #for 2nd order unicycle"
   ]
  },
  {
   "cell_type": "raw",
   "metadata": {},
   "source": [
    "#### Start with Initial Guess"
   ]
  },
  {
   "cell_type": "raw",
   "metadata": {},
   "source": [
    "us = np.zeros((T, sys.Du))\n",
    "sys.set_init_state(x0)\n",
    "xs = sys.rollout(us)"
   ]
  },
  {
   "cell_type": "raw",
   "metadata": {},
   "source": [
    "#### Allocate Data"
   ]
  },
  {
   "cell_type": "raw",
   "metadata": {},
   "source": [
    "Dx, Du = sys.Dx, sys.Du\n",
    "Lx  = np.zeros((T+1, Dx)) \n",
    "Lu  = np.zeros((T+1, Du))\n",
    "Lxx = np.zeros((T+1, Dx, Dx))\n",
    "Luu = np.zeros((T+1, Du, Du))\n",
    "Fx  = np.zeros((T+1, Dx, Dx))\n",
    "Fu  = np.zeros((T+1, Dx, Du))\n",
    "Vx  = np.zeros((T+1, Dx))\n",
    "Vxx = np.zeros((T+1, Dx, Dx))\n",
    "Qx  = np.zeros((T, Dx))\n",
    "Qu  = np.zeros((T, Du))\n",
    "Qux = np.zeros((T, Du, Dx))\n",
    "Qxx = np.zeros((T, Dx, Dx))\n",
    "Quu = np.zeros((T, Du, Du))\n",
    "\n",
    "k = np.zeros((T, Du))\n",
    "K = np.zeros((T, Du, Dx))\n",
    "x_refs = np.tile(x_ref,(T+1,1))"
   ]
  },
  {
   "cell_type": "raw",
   "metadata": {},
   "source": [
    "#### Try calculating the cost"
   ]
  },
  {
   "cell_type": "raw",
   "metadata": {},
   "source": [
    "calc_cost(xs, us, x_refs, Q, R, T)"
   ]
  },
  {
   "cell_type": "raw",
   "metadata": {},
   "source": [
    "#### Compute the cost and dynamic derivatives "
   ]
  },
  {
   "cell_type": "raw",
   "metadata": {},
   "source": [
    "def compute_derivatives(sys, Q, R, Qf, xs, us, x_refs):\n",
    "    for i in range(T+1):\n",
    "        Lx[i] = Q.dot(xs[i]-x_refs[i])\n",
    "        Lxx[i] = Q\n",
    "        Luu[i] = R\n",
    "\n",
    "        if i == T: \n",
    "            Lx[i] = Qf.dot(xs[i]-x_refs[i])\n",
    "            Lxx[i] = Qf\n",
    "\n",
    "            continue\n",
    "        A,B = sys.compute_matrices(xs[i], us[i])\n",
    "        Fx[i] = A\n",
    "        Fu[i] = B\n",
    "\n",
    "        Lu[i] = R.dot(us[i])\n",
    "    return Lx, Lu, Lxx, Luu, Fx, Fu "
   ]
  },
  {
   "cell_type": "raw",
   "metadata": {},
   "source": [
    "#### Backward Pass"
   ]
  },
  {
   "cell_type": "raw",
   "metadata": {},
   "source": [
    "def backward_pass(Lx, Lu, Lxx, Luu, Fx, Fu):\n",
    "    Vx[T] = Lx[T]\n",
    "    Vxx[T] = Lxx[T]\n",
    "    for i in np.arange(T-1, -1,-1):\n",
    "        Qx[i] = Lx[i] + Fx[i].T.dot(Vx[i+1])\n",
    "        Qu[i] = Lu[i] + Fu[i].T.dot(Vx[i+1])\n",
    "        Qxx[i] = Lxx[i] + Fx[i].T.dot(Vxx[i+1]).dot(Fx[i])\n",
    "        Quu[i] = Luu[i] + Fu[i].T.dot(Vxx[i+1]).dot(Fu[i]) #+ mu*np.eye(Du)\n",
    "        Qux[i] = Fu[i].T.dot(Vxx[i+1]).dot(Fx[i])\n",
    "\n",
    "        k[i] = -inv(Quu[i]).dot(Qu[i])\n",
    "        K[i] = -inv(Quu[i]).dot(Qux[i])\n",
    "\n",
    "        Vx[i] = Qx[i] - Qu[i].dot(inv(Quu[i])).dot(Qux[i])\n",
    "        Vxx[i] = Qxx[i] - Qux[i].T.dot(inv(Quu[i])).dot(Qux[i])\n",
    "        \n",
    "    return Vx, Vxx, Qx, Qu, Qxx, Quu, Qux, k, K"
   ]
  },
  {
   "cell_type": "raw",
   "metadata": {},
   "source": [
    "#### Forward Pass"
   ]
  },
  {
   "cell_type": "raw",
   "metadata": {},
   "source": [
    "def forward_pass(alpha, fac, sys, xs, us, x_refs, Q, R, T, k, K):\n",
    "    cost0 = calc_cost(xs, us, x_refs, Q, R, T, Qf)\n",
    "    print cost0\n",
    "    cost = 5*cost0\n",
    "    del_us = []\n",
    "    while cost > cost0:\n",
    "        xs_new = []\n",
    "        us_new = []\n",
    "        x = xs[0].copy()\n",
    "        xs_new += [x]\n",
    "        for i in range(T):\n",
    "            del_u = alpha*k[i] + K[i].dot(x-xs[i])\n",
    "            del_us += [del_u]\n",
    "            u = us[i] + del_u\n",
    "            x = sys.step(x,u)\n",
    "            xs_new += [x]\n",
    "            us_new += [u]\n",
    "\n",
    "        xs_new = np.array(xs_new)\n",
    "        us_new = np.array(us_new)\n",
    "        cost = calc_cost(xs_new, us_new, x_refs, Q, R, T, Qf)\n",
    "        print alpha,cost\n",
    "        alpha *= fac\n",
    "        \n",
    "    xs = xs_new\n",
    "    us = us_new\n",
    "\n",
    "    plt.plot(xs[:,0], xs[:,1], '-')\n",
    "    plt.plot(x_ref[0],x_ref[1],'*')\n",
    "    return xs, us, np.array(del_us)"
   ]
  },
  {
   "cell_type": "raw",
   "metadata": {},
   "source": [
    "alpha = 1\n",
    "fac = 0.5\n",
    "Lx, Lu, Lxx, Luu, Fx, Fu  = compute_derivatives(sys, Q, R, Qf, xs, us, x_refs)\n",
    "Vx, Vxx, Qx, Qu, Qxx, Quu, Qux, k, K = backward_pass(Lx, Lu, Lxx, Luu, Fx, Fu)\n",
    "xs, us, dus = forward_pass(alpha, fac, sys, xs, us, x_refs, Q, R, T, k, K)"
   ]
  },
  {
   "cell_type": "raw",
   "metadata": {},
   "source": [
    "#### Use Least Square "
   ]
  },
  {
   "cell_type": "raw",
   "metadata": {},
   "source": [
    "Qs = np.kron(np.eye(T+1),Q)\n",
    "Qs[-Dx:, -Dx:] = Qf\n",
    "Rs = np.kron(np.eye(T+1),R)\n",
    "\n",
    "Sx = np.zeros((Dx*(T+1),Dx))\n",
    "Su = np.zeros((Dx*(T+1),Du*(T+1)))\n",
    "\n",
    "#### Calculate Sx and Su \n",
    "i = 0\n",
    "Sx[Dx*i:Dx*(i+1), :] = np.eye(Dx)\n",
    "for i in range(1, T+1):\n",
    "    Sx[Dx*i:Dx*(i+1), :] =  Sx[Dx*(i-1):Dx*(i), :].dot(Fx[i-1])\n",
    "\n",
    "for i in range(1,T+1):\n",
    "    Su[Dx*i:Dx*(i+1), Du*(i-1): Du*(i)] = Fu[i-1]\n",
    "    Su[Dx*i:Dx*(i+1), :Du*(i-1)] = Fx[i-1].dot(Su[Dx*(i-1):Dx*(i), :Du*(i-1)])\n",
    "\n",
    "Lxs = Lx.flatten()\n",
    "Lus = Lu.flatten()\n",
    "\n",
    "#### Calculate X and U \n",
    "Sigma_u_inv = (Su.T.dot(Qs.dot(Su)) + Rs)\n",
    "del_us_ls = -np.linalg.solve(Sigma_u_inv, Su.T.dot(Qs.dot(Sx.dot(-np.zeros(Dx)))) + Lxs.dot(Su) + Lus )\n",
    "del_xs_ls = Sx.dot(np.zeros(Dx)) + Su.dot(del_us_ls)"
   ]
  },
  {
   "cell_type": "raw",
   "metadata": {},
   "source": [
    "#### Try sampling "
   ]
  },
  {
   "cell_type": "raw",
   "metadata": {},
   "source": [
    "dist = mvn(mean = del_us_ls, cov = inv(Sigma_u_inv))\n",
    "\n",
    "for i in range(100):\n",
    "    sample_del_us = dist.rvs()\n",
    "    sample_del_xs = Sx.dot(np.zeros(Dx)) + Su.dot(sample_del_us)\n",
    "\n",
    "    sample_del_us = sample_del_us[:-Du].reshape(-1,Du)\n",
    "    us_new = us + sample_del_us\n",
    "    xs_new = sys.rollout(us_new)\n",
    "\n",
    "    plt.plot(xs_new[-1,0], xs_new[-1,1], 'o', alpha=0.3)\n",
    "    plt.plot(xs_new[:,0], xs_new[:,1], '--', alpha=0.1)\n",
    "plt.plot(x_ref[0],x_ref[1],'*')\n",
    "plt.plot(xs[:,0], xs[:,1],'b-')\n",
    "plt.savefig('Unicycle.png')"
   ]
  },
  {
   "cell_type": "markdown",
   "metadata": {},
   "source": [
    "##  Using Class"
   ]
  },
  {
   "cell_type": "markdown",
   "metadata": {},
   "source": [
    "#### Define cost parameters "
   ]
  },
  {
   "cell_type": "code",
   "execution_count": 170,
   "metadata": {},
   "outputs": [],
   "source": [
    "if sys_name == 'Bicopter':\n",
    "    Q = np.eye(sys.Dx)*0.1\n",
    "    #Q[1,1] *= 10\n",
    "    #Q[3:,3:] = 0*Q[3:,3:] \n",
    "    Qf = np.eye(sys.Dx)*100\n",
    "    #Qf[1,1] *= 10\n",
    "    #Qf[3:,3:] = 0*Qf[3:,3:] \n",
    "    R = np.eye(sys.Du)*.1\n",
    "elif sys_name == 'Inverted_Pendulum':\n",
    "    Q = np.eye(sys.Dx)*0.1\n",
    "    Q[1,1] *= 1\n",
    "    #Q[3:,3:] = 0*Q[3:,3:] \n",
    "    Qf = np.eye(sys.Dx)*300\n",
    "    #Qf[1,1] *= 10\n",
    "    #Qf[3:,3:] = 0*Qf[3:,3:] \n",
    "    R = np.eye(sys.Du)*.3\n",
    "elif sys_name == 'Unicycle':\n",
    "    Q = np.eye(sys.Dx)*0.1\n",
    "    #Q[1,1] *= 10\n",
    "    #Q[3:,3:] = 0*Q[3:,3:] \n",
    "    Qf = np.eye(sys.Dx)*300\n",
    "    #Qf[1,1] *= 10\n",
    "    #Qf[3:,3:] = 0*Qf[3:,3:] \n",
    "    R = np.eye(sys.Du)*.1\n",
    "    \n",
    "    \n",
    "    \n",
    "mu = 1e-6"
   ]
  },
  {
   "cell_type": "raw",
   "metadata": {},
   "source": [
    "Q = np.array([np.eye(sys.Dx)*0]*T + [np.eye(sys.Dx)*10000])\n",
    "R = np.array([np.eye(sys.Du)*.01]*(T+1))\n",
    "mu = 1e-6"
   ]
  },
  {
   "cell_type": "code",
   "execution_count": 171,
   "metadata": {},
   "outputs": [],
   "source": [
    "ilqr = ILQR_Standard(sys)\n",
    "ilqr.set_init_state(x0)\n",
    "ilqr.set_timestep(T)\n",
    "ilqr.set_cost(Q,R,Qf)\n",
    "ilqr.set_ref(np.zeros((T+1,sys.Dx)))"
   ]
  },
  {
   "cell_type": "code",
   "execution_count": 172,
   "metadata": {},
   "outputs": [],
   "source": [
    "if sys_name == 'Bicopter':\n",
    "    x_ref = np.array([2,2,0,0,0,0]) #for bicopter\n",
    "elif sys_name == 'Inverted_Pendulum':\n",
    "    x_ref = np.array([0,0]) #for pendulum\n",
    "elif sys_name == 'Unicycle':\n",
    "    x_ref = np.array([2,2,-np.pi/2,0,0]) #for 2nd order unicycle\n",
    "    #x_ref = np.array([2,2,0]) #for 1st order unicycle\n",
    "x_refs = np.array([x_ref]*(ilqr.T +1))"
   ]
  },
  {
   "cell_type": "code",
   "execution_count": 173,
   "metadata": {},
   "outputs": [],
   "source": [
    "ilqr.set_ref(x_refs)"
   ]
  },
  {
   "cell_type": "code",
   "execution_count": 174,
   "metadata": {},
   "outputs": [],
   "source": [
    "us = np.zeros((T+1,sys.Du))\n",
    "sys.set_init_state(x0)\n",
    "xs = sys.rollout(us[:-1])\n",
    "ilqr.set_state(xs,us)"
   ]
  },
  {
   "cell_type": "code",
   "execution_count": 175,
   "metadata": {},
   "outputs": [
    {
     "data": {
      "text/plain": [
       "Text(0.5,1,'Bicopter')"
      ]
     },
     "execution_count": 175,
     "metadata": {},
     "output_type": "execute_result"
    },
    {
     "data": {
      "image/png": "[encoded data removed]",
      "text/plain": [
       "<Figure size 432x288 with 1 Axes>"
      ]
     },
     "metadata": {
      "needs_background": "light"
     },
     "output_type": "display_data"
    }
   ],
   "source": [
    "ilqr.solve(50)\n",
    "clear_output()\n",
    "#plt.plot(ilqr.xs[:,1], '-')\n",
    "plt.plot(ilqr.xs[:,0],ilqr.xs[:,1], '-')\n",
    "plt.plot(x_ref[0], x_ref[1], 'o')\n",
    "plt.title(sys_name)"
   ]
  },
  {
   "cell_type": "markdown",
   "metadata": {},
   "source": [
    "#### Use Least Square to compute the distribution"
   ]
  },
  {
   "cell_type": "code",
   "execution_count": 176,
   "metadata": {},
   "outputs": [
    {
     "name": "stdout",
     "output_type": "stream",
     "text": [
      "sampling\n"
     ]
    }
   ],
   "source": [
    "n_samples = 300\n",
    "_ = ilqr.compute_du_LS()\n",
    "sample_dxs, sample_dus = ilqr.sample_du(n_samples)\n",
    "sample_dxs = np.array(sample_dxs).reshape(n_samples, T+1, -1)"
   ]
  },
  {
   "cell_type": "code",
   "execution_count": 177,
   "metadata": {},
   "outputs": [
    {
     "data": {
      "image/png": "[encoded data removed]",
      "text/plain": [
       "<Figure size 432x288 with 1 Axes>"
      ]
     },
     "metadata": {
      "needs_background": "light"
     },
     "output_type": "display_data"
    }
   ],
   "source": [
    "dim = [0,1]\n",
    "plt.plot(ilqr.xs[:,dim[0]], ilqr.xs[:,dim[1]], 'k')\n",
    "for i in range(n_samples):\n",
    "    plt.plot(ilqr.xs[:,dim[0]] + sample_dxs[i,:,dim[0]], ilqr.xs[:,dim[1]]+ sample_dxs[i,:,dim[1]], 'r-', alpha=0.04 )\n",
    "    #plt.plot(sample_xs[i,-1,0], 'o', alpha=0.3 )\n",
    "    \n",
    "plt.plot(x_ref[dim[0]], x_ref[dim[1]], 'go', markersize=12, label = 'Goal')\n",
    "#plt.title('Trajectory Distribution of Bicopter', fontsize = 16)\n",
    "plt.xlabel('y', fontsize = 13)\n",
    "h = plt.ylabel('z', fontsize = 13)\n",
    "h.set_rotation(0)\n",
    "if sys_name == 'Inverted_Pendulum':\n",
    "    plt.xlabel(r'$\\theta$', fontsize = 13)\n",
    "    h = plt.ylabel(r'$\\dot \\theta$', fontsize = 13)\n",
    "    h.set_rotation(0)\n",
    "    \n",
    "plt.title(sys_name, fontsize = 16)\n",
    "plt.savefig('temp/' + sys_name + '_dist.png', dpi=500)"
   ]
  },
  {
   "cell_type": "raw",
   "metadata": {},
   "source": [
    "plt.plot(ilqr.xs[:,0], ilqr.xs[:,1], 'k')\n",
    "sample_dxs = sample_dxs.reshape(ilqr.T+1, -1, ilqr.Dx)\n",
    "for i in range(n_samples):\n",
    "    plt.plot(ilqr.xs[:-1,0] + sample_dxs[i,:,0],ilqr.xs[:-1,1] + sample_dxs[i,:,1], 'r-', alpha=0.03 )\n",
    "    #plt.plot(sample_xs[i,-1,0], 'o', alpha=0.3 )\n",
    "plt.title('Pendulum', fontsize = 16)\n",
    "plt.xlabel('Theta', fontsize = 13)\n",
    "plt.ylabel('Thetadot', fontsize = 13, rotation = 0)\n",
    "plt.savefig('temp/pendulum_dist.png', dpi=500)"
   ]
  },
  {
   "cell_type": "raw",
   "metadata": {},
   "source": [
    "plt.plot(ilqr.xs[:,0], ilqr.xs[:,1], 'k')\n",
    "for i in range(n_samples):\n",
    "    plt.plot(sample_xs[i,:,0],sample_xs[i,:,1], 'r-', alpha=0.05 )\n",
    "    #plt.plot(sample_xs[i,-1,0], 'o', alpha=0.3 )\n",
    "plt.title('Unicycle', fontsize = 16)\n",
    "plt.xlabel('x', fontsize = 13)\n",
    "plt.ylabel('y', fontsize = 13)\n",
    "plt.savefig('temp/unicycle_dist.png', dpi=500)"
   ]
  },
  {
   "cell_type": "code",
   "execution_count": null,
   "metadata": {},
   "outputs": [],
   "source": []
  },
  {
   "cell_type": "code",
   "execution_count": null,
   "metadata": {},
   "outputs": [],
   "source": []
  },
  {
   "cell_type": "code",
   "execution_count": null,
   "metadata": {},
   "outputs": [],
   "source": []
  },
  {
   "cell_type": "code",
   "execution_count": null,
   "metadata": {},
   "outputs": [],
   "source": []
  },
  {
   "cell_type": "code",
   "execution_count": null,
   "metadata": {},
   "outputs": [],
   "source": []
  }
 ],
 "metadata": {
  "kernelspec": {
   "display_name": "Python 3",
   "language": "python",
   "name": "python3"
  },
  "language_info": {
   "codemirror_mode": {
    "name": "ipython",
    "version": 2
   },
   "file_extension": ".py",
   "mimetype": "text/x-python",
   "name": "python",
   "nbconvert_exporter": "python",
   "pygments_lexer": "ipython2",
   "version": "2.7.12"
  }
 },
 "nbformat": 4,
 "nbformat_minor": 4
}
